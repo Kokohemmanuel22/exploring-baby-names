{
 "cells": [
  {
   "cell_type": "code",
   "execution_count": 1,
   "metadata": {
    "_cell_guid": "179ef014-e0b2-4dcb-84a9-e93c6024b3af"
   },
   "outputs": [],
   "source": [
    "import pandas as pd\n",
    "import seaborn as sns\n",
    "import numpy as np\n",
    "\n",
    "from collections import Counter\n",
    "\n",
    "import matplotlib.pyplot as plt\n",
    "%matplotlib inline"
   ]
  },
  {
   "cell_type": "markdown",
   "metadata": {
    "_cell_guid": "e38ea861-e907-48a3-afac-b15159657f61"
   },
   "source": [
    "# Data overview"
   ]
  },
  {
   "cell_type": "code",
   "execution_count": 2,
   "metadata": {
    "_cell_guid": "e5b7efe8-df22-4112-8093-ff2ef28ad587"
   },
   "outputs": [],
   "source": [
    "data = pd.read_csv('./input/NationalNames.csv')"
   ]
  },
  {
   "cell_type": "code",
   "execution_count": 3,
   "metadata": {
    "_cell_guid": "e883cd56-93f2-401d-874d-679006d1090f"
   },
   "outputs": [
    {
     "data": {
      "text/html": [
       "<div>\n",
       "<style scoped>\n",
       "    .dataframe tbody tr th:only-of-type {\n",
       "        vertical-align: middle;\n",
       "    }\n",
       "\n",
       "    .dataframe tbody tr th {\n",
       "        vertical-align: top;\n",
       "    }\n",
       "\n",
       "    .dataframe thead th {\n",
       "        text-align: right;\n",
       "    }\n",
       "</style>\n",
       "<table border=\"1\" class=\"dataframe\">\n",
       "  <thead>\n",
       "    <tr style=\"text-align: right;\">\n",
       "      <th></th>\n",
       "      <th>Id</th>\n",
       "      <th>Name</th>\n",
       "      <th>Year</th>\n",
       "      <th>Gender</th>\n",
       "      <th>Count</th>\n",
       "    </tr>\n",
       "  </thead>\n",
       "  <tbody>\n",
       "    <tr>\n",
       "      <th>0</th>\n",
       "      <td>1</td>\n",
       "      <td>Mary</td>\n",
       "      <td>1880</td>\n",
       "      <td>F</td>\n",
       "      <td>7065</td>\n",
       "    </tr>\n",
       "    <tr>\n",
       "      <th>1</th>\n",
       "      <td>2</td>\n",
       "      <td>Anna</td>\n",
       "      <td>1880</td>\n",
       "      <td>F</td>\n",
       "      <td>2604</td>\n",
       "    </tr>\n",
       "    <tr>\n",
       "      <th>2</th>\n",
       "      <td>3</td>\n",
       "      <td>Emma</td>\n",
       "      <td>1880</td>\n",
       "      <td>F</td>\n",
       "      <td>2003</td>\n",
       "    </tr>\n",
       "    <tr>\n",
       "      <th>3</th>\n",
       "      <td>4</td>\n",
       "      <td>Elizabeth</td>\n",
       "      <td>1880</td>\n",
       "      <td>F</td>\n",
       "      <td>1939</td>\n",
       "    </tr>\n",
       "    <tr>\n",
       "      <th>4</th>\n",
       "      <td>5</td>\n",
       "      <td>Minnie</td>\n",
       "      <td>1880</td>\n",
       "      <td>F</td>\n",
       "      <td>1746</td>\n",
       "    </tr>\n",
       "  </tbody>\n",
       "</table>\n",
       "</div>"
      ],
      "text/plain": [
       "   Id       Name  Year Gender  Count\n",
       "0   1       Mary  1880      F   7065\n",
       "1   2       Anna  1880      F   2604\n",
       "2   3       Emma  1880      F   2003\n",
       "3   4  Elizabeth  1880      F   1939\n",
       "4   5     Minnie  1880      F   1746"
      ]
     },
     "execution_count": 3,
     "metadata": {},
     "output_type": "execute_result"
    }
   ],
   "source": [
    "data.head()"
   ]
  },
  {
   "cell_type": "code",
   "execution_count": 4,
   "metadata": {
    "_cell_guid": "e849a8ee-da24-49f7-8d4c-330b86172ad7"
   },
   "outputs": [
    {
     "name": "stdout",
     "output_type": "stream",
     "text": [
      "<class 'pandas.core.frame.DataFrame'>\n",
      "RangeIndex: 1825433 entries, 0 to 1825432\n",
      "Data columns (total 5 columns):\n",
      "Id        int64\n",
      "Name      object\n",
      "Year      int64\n",
      "Gender    object\n",
      "Count     int64\n",
      "dtypes: int64(3), object(2)\n",
      "memory usage: 69.6+ MB\n"
     ]
    }
   ],
   "source": [
    "data.info()"
   ]
  },
  {
   "cell_type": "markdown",
   "metadata": {
    "_cell_guid": "ee0f95b5-d83a-48ec-90a9-362a55241b05"
   },
   "source": [
    "# Top 25 most popular names"
   ]
  },
  {
   "cell_type": "code",
   "execution_count": 5,
   "metadata": {
    "_cell_guid": "db0b25b5-7711-417e-a263-415d55078ade"
   },
   "outputs": [],
   "source": [
    "names_dict = dict()\n",
    "\n",
    "for index, row in data.iterrows():\n",
    "    if row['Name'] not in names_dict:\n",
    "        names_dict[row['Name']] = row['Count']\n",
    "    else:\n",
    "        names_dict[row['Name']] += row['Count']"
   ]
  },
  {
   "cell_type": "code",
   "execution_count": 6,
   "metadata": {
    "_cell_guid": "0b62f128-847d-4f84-ae71-08e5f40498a0"
   },
   "outputs": [
    {
     "name": "stdout",
     "output_type": "stream",
     "text": [
      "Top 25 most popular names:\n",
      "James\n",
      "John\n",
      "Robert\n",
      "Michael\n",
      "Mary\n",
      "William\n",
      "David\n",
      "Joseph\n",
      "Richard\n",
      "Charles\n",
      "Thomas\n",
      "Christopher\n",
      "Daniel\n",
      "Elizabeth\n",
      "Patricia\n",
      "Matthew\n",
      "Jennifer\n",
      "George\n",
      "Linda\n",
      "Barbara\n",
      "Donald\n",
      "Anthony\n",
      "Paul\n",
      "Mark\n",
      "Edward\n"
     ]
    }
   ],
   "source": [
    "top_25 = Counter(names_dict).most_common(25)\n",
    "print('Top 25 most popular names:')\n",
    "for pair in top_25:\n",
    "    print(pair[0])"
   ]
  },
  {
   "cell_type": "markdown",
   "metadata": {
    "_cell_guid": "4ce754f8-53bd-4594-9e61-26cf3b7a5d36"
   },
   "source": [
    "# Top 25 most rare names"
   ]
  },
  {
   "cell_type": "code",
   "execution_count": 7,
   "metadata": {
    "_cell_guid": "9f107e56-a2d1-43f6-a185-fe14eee3c0c0"
   },
   "outputs": [
    {
     "name": "stdout",
     "output_type": "stream",
     "text": [
      "Top 25 rare names:\n",
      "Zirui\n",
      "Zilas\n",
      "Zijun\n",
      "Ziden\n",
      "Zichen\n",
      "Zhalen\n",
      "Zekeriah\n",
      "Zeidan\n",
      "Zedek\n",
      "Zedan\n",
      "Zaysean\n",
      "Zaymere\n",
      "Zaydren\n",
      "Zaiyan\n",
      "Zaimar\n",
      "Zahran\n",
      "Zachariyah\n",
      "Yuyang\n",
      "Yuven\n",
      "Yushin\n",
      "Yule\n",
      "Yexiel\n",
      "Yeidan\n",
      "Yazziel\n"
     ]
    }
   ],
   "source": [
    "print('Top 25 rare names:')\n",
    "for pair in Counter(names_dict).most_common()[:-25:-1]:\n",
    "    print(pair[0])"
   ]
  },
  {
   "cell_type": "markdown",
   "metadata": {
    "_cell_guid": "9e34292f-a231-402b-8adf-bfc1912df809"
   },
   "source": [
    "# Average length of names"
   ]
  },
  {
   "cell_type": "code",
   "execution_count": 8,
   "metadata": {
    "_cell_guid": "e535a3ad-939f-4326-9c71-0bc504b4ea8e"
   },
   "outputs": [],
   "source": [
    "def average_length_data_transform():\n",
    "    years = []\n",
    "    female_average_length = []\n",
    "    female_average_name_length = dict()\n",
    "    male_average_length = []\n",
    "    male_average_name_length = dict()\n",
    "    \n",
    "    for index, row in data.iterrows():\n",
    "        if row['Gender'] == 'F':\n",
    "            curr_year = row['Year']\n",
    "            curr_name_length = len(row['Name'])\n",
    "            if curr_year not in female_average_name_length:\n",
    "                female_average_name_length[curr_year] = [curr_name_length, 1]\n",
    "            else:\n",
    "                female_average_name_length[curr_year][0] += curr_name_length\n",
    "                female_average_name_length[curr_year][1] += 1\n",
    "        else:\n",
    "            curr_year = row['Year']\n",
    "            curr_name_length = len(row['Name'])\n",
    "            if curr_year not in male_average_name_length:\n",
    "                male_average_name_length[curr_year] = [curr_name_length, 1]\n",
    "            else:\n",
    "                male_average_name_length[curr_year][0] += curr_name_length\n",
    "                male_average_name_length[curr_year][1] += 1\n",
    "    \n",
    "    for key, value in female_average_name_length.items():\n",
    "        years.append(key)\n",
    "        female_average_length.append(float(value[0]) / value[1])\n",
    "        \n",
    "    for key, value in male_average_name_length.items():\n",
    "        years.append(key)\n",
    "        male_average_length.append(float(value[0]) / value[1])\n",
    "        \n",
    "    return (female_average_length, female_average_name_length, male_average_length, male_average_name_length)"
   ]
  },
  {
   "cell_type": "code",
   "execution_count": 9,
   "metadata": {
    "_cell_guid": "e8a60562-0e45-4976-91d1-44f2bb2f3696"
   },
   "outputs": [],
   "source": [
    "female_average_length, female_average_name_length, male_average_length, male_average_name_length = average_length_data_transform()"
   ]
  },
  {
   "cell_type": "code",
   "execution_count": 10,
   "metadata": {
    "_cell_guid": "ed32f3cb-68cf-4c1f-a250-5a274c3d0cfd"
   },
   "outputs": [
    {
     "data": {
      "image/png": "[encoded data removed]",
      "text/plain": [
       "<matplotlib.figure.Figure at 0x1118fb860>"
      ]
     },
     "metadata": {},
     "output_type": "display_data"
    }
   ],
   "source": [
    "years = range(1880, 2015)\n",
    "f, ax = plt.subplots(figsize=(10, 6))\n",
    "ax.set_xlim([1880, 2014])\n",
    "\n",
    "plt.plot(years, female_average_length, label='Average length of female names', color='r')\n",
    "plt.plot(years, male_average_length, label='Average length of male names', color='b')\n",
    "\n",
    "ax.set_ylabel('Length of name')\n",
    "ax.set_xlabel('Year')\n",
    "ax.set_title('Average length of names')\n",
    "legend = plt.legend(loc='best', frameon=True, borderpad=1, borderaxespad=1)"
   ]
  },
  {
   "cell_type": "markdown",
   "metadata": {
    "_cell_guid": "754a16e7-c371-4a69-b5e3-3a6540bcd6c8"
   },
   "source": [
    "# Percent of unique names"
   ]
  },
  {
   "cell_type": "code",
   "execution_count": 11,
   "metadata": {
    "_cell_guid": "6ffaeec7-01f5-460d-be47-6fc026f9e66a"
   },
   "outputs": [],
   "source": [
    "top_in_each_year = dict()\n",
    "years = range(1880, 2015)\n",
    "\n",
    "for each_year in years:\n",
    "    each_year_data = data[data['Year'] == each_year]\n",
    "    top_in_each_year[each_year] = dict()\n",
    "    for index, row in each_year_data.iterrows():            \n",
    "        top_in_each_year[each_year][row['Name']] = row['Count']"
   ]
  },
  {
   "cell_type": "code",
   "execution_count": 12,
   "metadata": {
    "_cell_guid": "9c3ab70d-2dd0-47bd-89b2-9214b35c4875"
   },
   "outputs": [],
   "source": [
    "all_sum = []\n",
    "top_25_sum = []\n",
    "for year, names_in_year in top_in_each_year.items():\n",
    "    all_sum.append(sum(Counter(names_in_year).values()))\n",
    "    top_25 = Counter(names_in_year).most_common(25)\n",
    "    sum_temp = 0\n",
    "    for pair in top_25:\n",
    "        sum_temp += pair[1]\n",
    "    top_25_sum.append(sum_temp)"
   ]
  },
  {
   "cell_type": "code",
   "execution_count": 13,
   "metadata": {
    "_cell_guid": "3817f3c1-08ef-48ce-aa79-e01fb4519bdb"
   },
   "outputs": [],
   "source": [
    "percent_unique_names = np.array(top_25_sum).astype(float) / np.array(all_sum) * 100"
   ]
  },
  {
   "cell_type": "code",
   "execution_count": 14,
   "metadata": {
    "_cell_guid": "99f44558-5159-4397-858f-341524c715d0"
   },
   "outputs": [
    {
     "data": {
      "image/png": "[encoded data removed]",
      "text/plain": [
       "<matplotlib.figure.Figure at 0x126c3fda0>"
      ]
     },
     "metadata": {},
     "output_type": "display_data"
    }
   ],
   "source": [
    "f, ax = plt.subplots(figsize=(10, 6))\n",
    "ax.set_xlim([1880, 2014])\n",
    "\n",
    "plt.plot(years, percent_unique_names, label='Percent of unique names', color='black')\n",
    "\n",
    "ax.set_ylabel('Percent of unique names')\n",
    "ax.set_xlabel('Year')\n",
    "ax.set_title('Percent of unique names')\n",
    "legend = plt.legend(loc='best', frameon=True, borderpad=1, borderaxespad=1)"
   ]
  }
 ],
 "metadata": {
  "_change_revision": 0,
  "_is_fork": false,
  "kernelspec": {
   "display_name": "Python 3",
   "language": "python",
   "name": "python3"
  },
  "language_info": {
   "codemirror_mode": {
    "name": "ipython",
    "version": 3
   },
   "file_extension": ".py",
   "mimetype": "text/x-python",
   "name": "python",
   "nbconvert_exporter": "python",
   "pygments_lexer": "ipython3",
   "version": "3.6.4"
  }
 },
 "nbformat": 4,
 "nbformat_minor": 1
}
